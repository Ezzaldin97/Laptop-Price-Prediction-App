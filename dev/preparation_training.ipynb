{
 "cells": [
  {
   "cell_type": "code",
   "execution_count": 2,
   "metadata": {},
   "outputs": [],
   "source": [
    "import pandas as pd\n",
    "import numpy as np\n",
    "import seaborn as sns\n",
    "import matplotlib.pyplot as plt\n",
    "from sklearn.model_selection import train_test_split\n",
    "from sklearn.metrics import mean_squared_error\n",
    "from sklearn.pipeline import Pipeline\n",
    "from sklearn.preprocessing import FunctionTransformer, OrdinalEncoder, StandardScaler\n",
    "from sklearn.compose import ColumnTransformer, make_column_transformer\n",
    "from sklearn.linear_model import LinearRegression, Lasso, Ridge\n",
    "from sklearn.ensemble import GradientBoostingRegressor\n",
    "from sklearn.feature_selection import mutual_info_regression\n",
    "from sklearn.impute import SimpleImputer\n",
    "import lightgbm as lgbm\n",
    "from hyperopt import fmin, tpe, hp, STATUS_OK, Trials\n",
    "from hyperopt.pyll import scope\n",
    "import pickle\n",
    "import re\n",
    "import os"
   ]
  },
  {
   "cell_type": "code",
   "execution_count": 3,
   "metadata": {},
   "outputs": [
    {
     "data": {
      "text/html": [
       "<div>\n",
       "<style scoped>\n",
       "    .dataframe tbody tr th:only-of-type {\n",
       "        vertical-align: middle;\n",
       "    }\n",
       "\n",
       "    .dataframe tbody tr th {\n",
       "        vertical-align: top;\n",
       "    }\n",
       "\n",
       "    .dataframe thead th {\n",
       "        text-align: right;\n",
       "    }\n",
       "</style>\n",
       "<table border=\"1\" class=\"dataframe\">\n",
       "  <thead>\n",
       "    <tr style=\"text-align: right;\">\n",
       "      <th></th>\n",
       "      <th>laptop_ID</th>\n",
       "      <th>Company</th>\n",
       "      <th>Product</th>\n",
       "      <th>TypeName</th>\n",
       "      <th>Inches</th>\n",
       "      <th>ScreenResolution</th>\n",
       "      <th>Cpu</th>\n",
       "      <th>Ram</th>\n",
       "      <th>Memory</th>\n",
       "      <th>Gpu</th>\n",
       "      <th>OpSys</th>\n",
       "      <th>Weight</th>\n",
       "      <th>Price_euros</th>\n",
       "    </tr>\n",
       "  </thead>\n",
       "  <tbody>\n",
       "    <tr>\n",
       "      <th>0</th>\n",
       "      <td>1</td>\n",
       "      <td>Apple</td>\n",
       "      <td>MacBook Pro</td>\n",
       "      <td>Ultrabook</td>\n",
       "      <td>13.3</td>\n",
       "      <td>IPS Panel Retina Display 2560x1600</td>\n",
       "      <td>Intel Core i5 2.3GHz</td>\n",
       "      <td>8GB</td>\n",
       "      <td>128GB SSD</td>\n",
       "      <td>Intel Iris Plus Graphics 640</td>\n",
       "      <td>macOS</td>\n",
       "      <td>1.37kg</td>\n",
       "      <td>1339.69</td>\n",
       "    </tr>\n",
       "    <tr>\n",
       "      <th>1</th>\n",
       "      <td>2</td>\n",
       "      <td>Apple</td>\n",
       "      <td>Macbook Air</td>\n",
       "      <td>Ultrabook</td>\n",
       "      <td>13.3</td>\n",
       "      <td>1440x900</td>\n",
       "      <td>Intel Core i5 1.8GHz</td>\n",
       "      <td>8GB</td>\n",
       "      <td>128GB Flash Storage</td>\n",
       "      <td>Intel HD Graphics 6000</td>\n",
       "      <td>macOS</td>\n",
       "      <td>1.34kg</td>\n",
       "      <td>898.94</td>\n",
       "    </tr>\n",
       "    <tr>\n",
       "      <th>2</th>\n",
       "      <td>3</td>\n",
       "      <td>HP</td>\n",
       "      <td>250 G6</td>\n",
       "      <td>Notebook</td>\n",
       "      <td>15.6</td>\n",
       "      <td>Full HD 1920x1080</td>\n",
       "      <td>Intel Core i5 7200U 2.5GHz</td>\n",
       "      <td>8GB</td>\n",
       "      <td>256GB SSD</td>\n",
       "      <td>Intel HD Graphics 620</td>\n",
       "      <td>No OS</td>\n",
       "      <td>1.86kg</td>\n",
       "      <td>575.00</td>\n",
       "    </tr>\n",
       "    <tr>\n",
       "      <th>3</th>\n",
       "      <td>4</td>\n",
       "      <td>Apple</td>\n",
       "      <td>MacBook Pro</td>\n",
       "      <td>Ultrabook</td>\n",
       "      <td>15.4</td>\n",
       "      <td>IPS Panel Retina Display 2880x1800</td>\n",
       "      <td>Intel Core i7 2.7GHz</td>\n",
       "      <td>16GB</td>\n",
       "      <td>512GB SSD</td>\n",
       "      <td>AMD Radeon Pro 455</td>\n",
       "      <td>macOS</td>\n",
       "      <td>1.83kg</td>\n",
       "      <td>2537.45</td>\n",
       "    </tr>\n",
       "    <tr>\n",
       "      <th>4</th>\n",
       "      <td>5</td>\n",
       "      <td>Apple</td>\n",
       "      <td>MacBook Pro</td>\n",
       "      <td>Ultrabook</td>\n",
       "      <td>13.3</td>\n",
       "      <td>IPS Panel Retina Display 2560x1600</td>\n",
       "      <td>Intel Core i5 3.1GHz</td>\n",
       "      <td>8GB</td>\n",
       "      <td>256GB SSD</td>\n",
       "      <td>Intel Iris Plus Graphics 650</td>\n",
       "      <td>macOS</td>\n",
       "      <td>1.37kg</td>\n",
       "      <td>1803.60</td>\n",
       "    </tr>\n",
       "  </tbody>\n",
       "</table>\n",
       "</div>"
      ],
      "text/plain": [
       "   laptop_ID Company      Product   TypeName  Inches  \\\n",
       "0          1   Apple  MacBook Pro  Ultrabook    13.3   \n",
       "1          2   Apple  Macbook Air  Ultrabook    13.3   \n",
       "2          3      HP       250 G6   Notebook    15.6   \n",
       "3          4   Apple  MacBook Pro  Ultrabook    15.4   \n",
       "4          5   Apple  MacBook Pro  Ultrabook    13.3   \n",
       "\n",
       "                     ScreenResolution                         Cpu   Ram  \\\n",
       "0  IPS Panel Retina Display 2560x1600        Intel Core i5 2.3GHz   8GB   \n",
       "1                            1440x900        Intel Core i5 1.8GHz   8GB   \n",
       "2                   Full HD 1920x1080  Intel Core i5 7200U 2.5GHz   8GB   \n",
       "3  IPS Panel Retina Display 2880x1800        Intel Core i7 2.7GHz  16GB   \n",
       "4  IPS Panel Retina Display 2560x1600        Intel Core i5 3.1GHz   8GB   \n",
       "\n",
       "                Memory                           Gpu  OpSys  Weight  \\\n",
       "0            128GB SSD  Intel Iris Plus Graphics 640  macOS  1.37kg   \n",
       "1  128GB Flash Storage        Intel HD Graphics 6000  macOS  1.34kg   \n",
       "2            256GB SSD         Intel HD Graphics 620  No OS  1.86kg   \n",
       "3            512GB SSD            AMD Radeon Pro 455  macOS  1.83kg   \n",
       "4            256GB SSD  Intel Iris Plus Graphics 650  macOS  1.37kg   \n",
       "\n",
       "   Price_euros  \n",
       "0      1339.69  \n",
       "1       898.94  \n",
       "2       575.00  \n",
       "3      2537.45  \n",
       "4      1803.60  "
      ]
     },
     "execution_count": 3,
     "metadata": {},
     "output_type": "execute_result"
    }
   ],
   "source": [
    "df = pd.read_csv(os.path.join(os.path.pardir, \"data\", \"laptop_price.csv\"), encoding_errors = \"ignore\")\n",
    "df.head()"
   ]
  },
  {
   "cell_type": "code",
   "execution_count": 4,
   "metadata": {},
   "outputs": [],
   "source": [
    "# drop first inches and id\n",
    "df.drop([\"Inches\", \"laptop_ID\"], axis = 1, inplace = True)"
   ]
  },
  {
   "cell_type": "code",
   "execution_count": 5,
   "metadata": {},
   "outputs": [],
   "source": [
    "X = df.drop(\"Price_euros\", axis = 1).columns\n",
    "y = \"Price_euros\""
   ]
  },
  {
   "cell_type": "code",
   "execution_count": 6,
   "metadata": {},
   "outputs": [
    {
     "name": "stdout",
     "output_type": "stream",
     "text": [
      "<class 'pandas.core.frame.DataFrame'>\n",
      "RangeIndex: 1303 entries, 0 to 1302\n",
      "Data columns (total 10 columns):\n",
      " #   Column            Non-Null Count  Dtype \n",
      "---  ------            --------------  ----- \n",
      " 0   Company           1303 non-null   object\n",
      " 1   Product           1303 non-null   object\n",
      " 2   TypeName          1303 non-null   object\n",
      " 3   ScreenResolution  1303 non-null   object\n",
      " 4   Cpu               1303 non-null   object\n",
      " 5   Ram               1303 non-null   object\n",
      " 6   Memory            1303 non-null   object\n",
      " 7   Gpu               1303 non-null   object\n",
      " 8   OpSys             1303 non-null   object\n",
      " 9   Weight            1303 non-null   object\n",
      "dtypes: object(10)\n",
      "memory usage: 101.9+ KB\n"
     ]
    }
   ],
   "source": [
    "df[X].info()"
   ]
  },
  {
   "cell_type": "code",
   "execution_count": 7,
   "metadata": {},
   "outputs": [],
   "source": [
    "def handle_storage_space(x):\n",
    "    spaces_lst = []\n",
    "    for val in x.split():\n",
    "        if \"GB\" in val or \"TB\" in val:\n",
    "            if \"TB\" in val:\n",
    "                spaces_lst.append(int(re.findall(\"\\d+\", val)[0])*1000)\n",
    "            else:\n",
    "                spaces_lst.append(int(re.findall(\"\\d+\", val)[0]))\n",
    "    return sum(spaces_lst)"
   ]
  },
  {
   "cell_type": "code",
   "execution_count": 8,
   "metadata": {},
   "outputs": [],
   "source": [
    "# data cleaning & preprocessing phase..\n",
    "df[\"Ram\"] = df[\"Ram\"].apply(lambda x: x[:-2])\n",
    "df[\"Ram\"] = df[\"Ram\"].astype(\"int8\")\n",
    "df[\"Weight\"] = df[\"Weight\"].apply(lambda x: x[:-2])\n",
    "df[\"Weight\"] = df[\"Weight\"].astype(\"float16\")\n",
    "df[\"CPU_manufacturer\"] = df[\"Cpu\"].apply(lambda x: x.split()[0])\n",
    "df[\"CPU_frequency\"] = df[\"Cpu\"].apply(lambda x: x.split()[-1])\n",
    "df[\"CPU_frequency\"] = df[\"CPU_frequency\"].apply(lambda x: x[:-3])\n",
    "df[\"CPU_frequency\"] = df[\"CPU_frequency\"].astype(\"float16\")\n",
    "df[\"CPU_model\"] = df[\"Cpu\"].apply(lambda x: x.split()[1:-1])\n",
    "df[\"CPU_model\"] = df[\"CPU_model\"].apply(lambda x:''.join(val+'-' if idx != len(x)-1 else val for idx, val in enumerate(x)))\n",
    "width_lst = df[\"ScreenResolution\"].apply(lambda x:int(x.split()[-1].split(sep = \"x\")[0]) * 0.0264583333).values \n",
    "height_lst = df[\"ScreenResolution\"].apply(lambda x:int(x.split()[-1].split(sep = \"x\")[1]) * 0.0264583333).values\n",
    "df[\"screen_area_cm2\"] = list(map(lambda x, y: x*y, width_lst, height_lst))\n",
    "df[\"is_4K\"] = df[\"ScreenResolution\"].apply(lambda x: 1 if \"4K Ultra HD\" in x else 0)\n",
    "df[\"is_touchscreen\"] = df[\"ScreenResolution\"].apply(lambda x: 1 if \"Touchscreen\" in x else 0)\n",
    "df[\"is_full_HD\"] = df[\"ScreenResolution\"].apply(lambda x: 1 if \"Full HD\" in x else 0)\n",
    "df[\"is_Quad\"] = df[\"ScreenResolution\"].apply(lambda x: 1 if \"Quad\" in x else 0)\n",
    "df[\"is_HD+\"] = df[\"ScreenResolution\"].apply(lambda x: 1 if \"HD+\" in x else 0)\n",
    "df[\"is_ips_panel\"] = df[\"ScreenResolution\"].apply(lambda x: 1 if \"IPS Panel\" in x else 0)\n",
    "df[\"is_retina_display\"] = df[\"ScreenResolution\"].apply(lambda x: 1 if \"Retina Display\" in x else 0)\n",
    "df[\"is_ssd\"] = df[\"Memory\"].apply(lambda x: 1 if \"SSD\" in x else 0)\n",
    "df[\"is_hdd\"] = df[\"Memory\"].apply(lambda x: 1 if \"HDD\" in x else 0)\n",
    "df[\"is_hybrid_storage\"] = df[\"Memory\"].apply(lambda x: 1 if \"Hybrid\" in x else 0)\n",
    "df[\"is_flash_storage\"] = df[\"Memory\"].apply(lambda x: 1 if \"Flash\" in x else 0)\n",
    "df[\"unique_storage_types\"] = df[\"is_ssd\"] + df[\"is_hdd\"] + df[\"is_hybrid_storage\"] + df[\"is_flash_storage\"]\n",
    "df[\"total_storage\"] = df[\"Memory\"].apply(handle_storage_space)\n",
    "df[\"GPU_manufacturer\"] = df[\"Gpu\"].apply(lambda x:x.split()[0])\n",
    "# Drop Raw Data Columns....\n",
    "df.drop([\"ScreenResolution\", \"Cpu\", \"Memory\", \"Gpu\"], axis = 1, inplace = True)"
   ]
  },
  {
   "cell_type": "code",
   "execution_count": 9,
   "metadata": {},
   "outputs": [],
   "source": [
    "df.drop(\"Product\", axis = 1, inplace = True)"
   ]
  },
  {
   "cell_type": "code",
   "execution_count": 10,
   "metadata": {},
   "outputs": [
    {
     "name": "stdout",
     "output_type": "stream",
     "text": [
      "<class 'pandas.core.frame.DataFrame'>\n",
      "RangeIndex: 1303 entries, 0 to 1302\n",
      "Data columns (total 24 columns):\n",
      " #   Column                Non-Null Count  Dtype  \n",
      "---  ------                --------------  -----  \n",
      " 0   Company               1303 non-null   object \n",
      " 1   TypeName              1303 non-null   object \n",
      " 2   Ram                   1303 non-null   int8   \n",
      " 3   OpSys                 1303 non-null   object \n",
      " 4   Weight                1303 non-null   float16\n",
      " 5   Price_euros           1303 non-null   float64\n",
      " 6   CPU_manufacturer      1303 non-null   object \n",
      " 7   CPU_frequency         1303 non-null   float16\n",
      " 8   CPU_model             1303 non-null   object \n",
      " 9   screen_area_cm2       1303 non-null   float64\n",
      " 10  is_4K                 1303 non-null   int64  \n",
      " 11  is_touchscreen        1303 non-null   int64  \n",
      " 12  is_full_HD            1303 non-null   int64  \n",
      " 13  is_Quad               1303 non-null   int64  \n",
      " 14  is_HD+                1303 non-null   int64  \n",
      " 15  is_ips_panel          1303 non-null   int64  \n",
      " 16  is_retina_display     1303 non-null   int64  \n",
      " 17  is_ssd                1303 non-null   int64  \n",
      " 18  is_hdd                1303 non-null   int64  \n",
      " 19  is_hybrid_storage     1303 non-null   int64  \n",
      " 20  is_flash_storage      1303 non-null   int64  \n",
      " 21  unique_storage_types  1303 non-null   int64  \n",
      " 22  total_storage         1303 non-null   int64  \n",
      " 23  GPU_manufacturer      1303 non-null   object \n",
      "dtypes: float16(2), float64(2), int64(13), int8(1), object(6)\n",
      "memory usage: 220.3+ KB\n"
     ]
    }
   ],
   "source": [
    "df.info()"
   ]
  },
  {
   "cell_type": "code",
   "execution_count": 11,
   "metadata": {},
   "outputs": [],
   "source": [
    "company_enc = OrdinalEncoder()\n",
    "type_enc = OrdinalEncoder()\n",
    "os_enc = OrdinalEncoder()\n",
    "cpu_manfacturer_enc = OrdinalEncoder()\n",
    "cpu_model_enc = OrdinalEncoder()\n",
    "gpu_manfacturer_enc = OrdinalEncoder()"
   ]
  },
  {
   "cell_type": "code",
   "execution_count": 12,
   "metadata": {},
   "outputs": [],
   "source": [
    "# copy the dataframe.\n",
    "pre_df = df.copy()"
   ]
  },
  {
   "cell_type": "code",
   "execution_count": 13,
   "metadata": {},
   "outputs": [],
   "source": [
    "pre_df[\"Company\"] = company_enc.fit_transform(pre_df[\"Company\"].values.reshape(-1, 1))\n",
    "pre_df[\"TypeName\"] = company_enc.fit_transform(pre_df[\"TypeName\"].values.reshape(-1, 1))\n",
    "pre_df[\"OpSys\"] = company_enc.fit_transform(pre_df[\"OpSys\"].values.reshape(-1, 1))\n",
    "pre_df[\"CPU_manufacturer\"] = company_enc.fit_transform(pre_df[\"CPU_manufacturer\"].values.reshape(-1, 1))\n",
    "pre_df[\"CPU_model\"] = company_enc.fit_transform(pre_df[\"CPU_model\"].values.reshape(-1, 1))\n",
    "pre_df[\"GPU_manufacturer\"] = company_enc.fit_transform(pre_df[\"GPU_manufacturer\"].values.reshape(-1, 1))"
   ]
  },
  {
   "cell_type": "code",
   "execution_count": 14,
   "metadata": {},
   "outputs": [],
   "source": [
    "# categorical columns: Company:0, TypeName:1, OpSys:3, CPU_manufacturer:6, CPU_model:8, \n",
    "# is_4K':10, 'is_touchscreen':11, 'is_full_HD':12, 'is_Quad':13, 'is_HD+':14,\n",
    "#'is_ips_panel':15, 'is_retina_display':16, 'is_ssd':17, 'is_hdd':18,\n",
    "#'is_hybrid_storage':19, 'is_flash_storage':20, 'unique_storage_types:21, GPU_manufacturer:23\n",
    "cat_idx = [0, 1, 3, 5, 7, 22]"
   ]
  },
  {
   "cell_type": "code",
   "execution_count": 15,
   "metadata": {},
   "outputs": [],
   "source": [
    "cat_cols_idx = [0, 1, 3, 5, 7, 9, 10, 11, 12, 13, 14, 15, 16, 17, 18, 19, 20, 22]"
   ]
  },
  {
   "cell_type": "code",
   "execution_count": 16,
   "metadata": {},
   "outputs": [],
   "source": [
    "X = pre_df.drop(\"Price_euros\", axis = 1)\n",
    "y = pre_df[\"Price_euros\"]\n",
    "mi_scores = mutual_info_regression(X, y, discrete_features=cat_cols_idx)"
   ]
  },
  {
   "cell_type": "code",
   "execution_count": 17,
   "metadata": {},
   "outputs": [
    {
     "data": {
      "text/plain": [
       "(array([ 0,  1,  2,  3,  4,  5,  6,  7,  8,  9, 10, 11, 12, 13, 14, 15, 16,\n",
       "        17, 18, 19, 20, 21, 22]),\n",
       " [Text(0, 0, 'Company'),\n",
       "  Text(1, 0, 'TypeName'),\n",
       "  Text(2, 0, 'Ram'),\n",
       "  Text(3, 0, 'OpSys'),\n",
       "  Text(4, 0, 'Weight'),\n",
       "  Text(5, 0, 'CPU_manufacturer'),\n",
       "  Text(6, 0, 'CPU_frequency'),\n",
       "  Text(7, 0, 'CPU_model'),\n",
       "  Text(8, 0, 'screen_area_cm2'),\n",
       "  Text(9, 0, 'is_4K'),\n",
       "  Text(10, 0, 'is_touchscreen'),\n",
       "  Text(11, 0, 'is_full_HD'),\n",
       "  Text(12, 0, 'is_Quad'),\n",
       "  Text(13, 0, 'is_HD+'),\n",
       "  Text(14, 0, 'is_ips_panel'),\n",
       "  Text(15, 0, 'is_retina_display'),\n",
       "  Text(16, 0, 'is_ssd'),\n",
       "  Text(17, 0, 'is_hdd'),\n",
       "  Text(18, 0, 'is_hybrid_storage'),\n",
       "  Text(19, 0, 'is_flash_storage'),\n",
       "  Text(20, 0, 'unique_storage_types'),\n",
       "  Text(21, 0, 'total_storage'),\n",
       "  Text(22, 0, 'GPU_manufacturer')])"
      ]
     },
     "execution_count": 17,
     "metadata": {},
     "output_type": "execute_result"
    },
    {
     "data": {
      "image/png": "[encoded data removed]",
      "text/plain": [
       "<Figure size 640x480 with 1 Axes>"
      ]
     },
     "metadata": {},
     "output_type": "display_data"
    }
   ],
   "source": [
    "# Mutual Information Score for each feature...\n",
    "sns.barplot(x = X.columns, y = mi_scores)\n",
    "plt.xticks(rotation = 90)"
   ]
  },
  {
   "cell_type": "code",
   "execution_count": 29,
   "metadata": {},
   "outputs": [],
   "source": [
    "# search space of lightgbm regressor\n",
    "SEARCH_SPACE={\n",
    "    \"n_estimators\":scope.int(hp.quniform(\"n_estimators\", 20, 700, 5)),\n",
    "    \"max_depth\":scope.int(hp.quniform(\"max_depth\", 1, 12, 1)),\n",
    "    \"min_samples_split\":scope.int(hp.quniform(\"num_leaves\", 100, 150, 5)),\n",
    "    \"min_samples_leaf\":scope.int(hp.quniform(\"min_samples_leaf\", 30, 500, 20)),\n",
    "    \"learning_rate\":scope.float(hp.quniform(\"learning_rate\", 0.01, 0.3, 0.001)),\n",
    "    \"alpha\":hp.loguniform(\"alpha\", -5, -1),\n",
    "    \"random_state\":42\n",
    "}"
   ]
  },
  {
   "cell_type": "code",
   "execution_count": 30,
   "metadata": {},
   "outputs": [],
   "source": [
    "X_train, X_valid, y_train, y_valid = train_test_split(X, y, test_size = 0.15, random_state = 42)"
   ]
  },
  {
   "cell_type": "code",
   "execution_count": 31,
   "metadata": {},
   "outputs": [],
   "source": [
    "def optimize(params):\n",
    "    booster = GradientBoostingRegressor(**params)\n",
    "    booster.fit(X_train, y_train)\n",
    "    y_pred = booster.predict(X_valid)\n",
    "    rmse = mean_squared_error(y_valid, y_pred, squared=False)\n",
    "    return {\"loss\":rmse, \"status\":STATUS_OK}"
   ]
  },
  {
   "cell_type": "code",
   "execution_count": 32,
   "metadata": {},
   "outputs": [
    {
     "name": "stdout",
     "output_type": "stream",
     "text": [
      "100%|██████████| 25/25 [00:38<00:00,  1.55s/trial, best loss: 303.72760358444515]\n"
     ]
    }
   ],
   "source": [
    "best_res = fmin(\n",
    "    fn = optimize,\n",
    "    space = SEARCH_SPACE,\n",
    "    algo = tpe.suggest,\n",
    "    max_evals=25,\n",
    "    trials=Trials()\n",
    ")"
   ]
  },
  {
   "cell_type": "code",
   "execution_count": 33,
   "metadata": {},
   "outputs": [
    {
     "data": {
      "text/plain": [
       "{'alpha': 0.12940376373416662,\n",
       " 'learning_rate': 0.216,\n",
       " 'max_depth': 12.0,\n",
       " 'min_samples_leaf': 80.0,\n",
       " 'n_estimators': 595.0,\n",
       " 'num_leaves': 100.0}"
      ]
     },
     "execution_count": 33,
     "metadata": {},
     "output_type": "execute_result"
    }
   ],
   "source": [
    "best_res"
   ]
  },
  {
   "cell_type": "code",
   "execution_count": 34,
   "metadata": {},
   "outputs": [],
   "source": [
    "params = {'alpha': 0.12940376373416662,\n",
    " 'learning_rate': 0.216,\n",
    " 'max_depth': 12,\n",
    " 'min_samples_leaf': 80,\n",
    " 'n_estimators': 595,\n",
    " 'min_samples_split': 100,\n",
    " 'random_state':42}"
   ]
  },
  {
   "cell_type": "code",
   "execution_count": 35,
   "metadata": {},
   "outputs": [],
   "source": [
    "cat_preprocessor = Pipeline(steps = [\n",
    "    (\"ordinal-enc\", OrdinalEncoder())\n",
    "])\n",
    "preprocessor = ColumnTransformer(transformers = [\n",
    "    (\"cat\", cat_preprocessor, cat_idx),\n",
    "    (\"other\", \"passthrough\", [2, 4, 6, 8, 9, 10, 11, 12, 13, 14, 15, 16, 17, 18, 19, 20, 21])\n",
    "], remainder=\"passthrough\")\n",
    "model_pipeline = Pipeline(steps = [\n",
    "    (\"preprocessor\", preprocessor),\n",
    "    (\"missing_handler\", SimpleImputer(strategy='constant', fill_value=-1)),\n",
    "    (\"gb\", GradientBoostingRegressor(**params))\n",
    "])"
   ]
  },
  {
   "cell_type": "code",
   "execution_count": 36,
   "metadata": {},
   "outputs": [],
   "source": [
    "X = df.drop(\"Price_euros\", axis = 1)\n",
    "y = df[\"Price_euros\"]"
   ]
  },
  {
   "cell_type": "code",
   "execution_count": 37,
   "metadata": {},
   "outputs": [
    {
     "data": {
      "text/html": [
       "<style>#sk-container-id-1 {color: black;background-color: white;}#sk-container-id-1 pre{padding: 0;}#sk-container-id-1 div.sk-toggleable {background-color: white;}#sk-container-id-1 label.sk-toggleable__label {cursor: pointer;display: block;width: 100%;margin-bottom: 0;padding: 0.3em;box-sizing: border-box;text-align: center;}#sk-container-id-1 label.sk-toggleable__label-arrow:before {content: \"▸\";float: left;margin-right: 0.25em;color: #696969;}#sk-container-id-1 label.sk-toggleable__label-arrow:hover:before {color: black;}#sk-container-id-1 div.sk-estimator:hover label.sk-toggleable__label-arrow:before {color: black;}#sk-container-id-1 div.sk-toggleable__content {max-height: 0;max-width: 0;overflow: hidden;text-align: left;background-color: #f0f8ff;}#sk-container-id-1 div.sk-toggleable__content pre {margin: 0.2em;color: black;border-radius: 0.25em;background-color: #f0f8ff;}#sk-container-id-1 input.sk-toggleable__control:checked~div.sk-toggleable__content {max-height: 200px;max-width: 100%;overflow: auto;}#sk-container-id-1 input.sk-toggleable__control:checked~label.sk-toggleable__label-arrow:before {content: \"▾\";}#sk-container-id-1 div.sk-estimator input.sk-toggleable__control:checked~label.sk-toggleable__label {background-color: #d4ebff;}#sk-container-id-1 div.sk-label input.sk-toggleable__control:checked~label.sk-toggleable__label {background-color: #d4ebff;}#sk-container-id-1 input.sk-hidden--visually {border: 0;clip: rect(1px 1px 1px 1px);clip: rect(1px, 1px, 1px, 1px);height: 1px;margin: -1px;overflow: hidden;padding: 0;position: absolute;width: 1px;}#sk-container-id-1 div.sk-estimator {font-family: monospace;background-color: #f0f8ff;border: 1px dotted black;border-radius: 0.25em;box-sizing: border-box;margin-bottom: 0.5em;}#sk-container-id-1 div.sk-estimator:hover {background-color: #d4ebff;}#sk-container-id-1 div.sk-parallel-item::after {content: \"\";width: 100%;border-bottom: 1px solid gray;flex-grow: 1;}#sk-container-id-1 div.sk-label:hover label.sk-toggleable__label {background-color: #d4ebff;}#sk-container-id-1 div.sk-serial::before {content: \"\";position: absolute;border-left: 1px solid gray;box-sizing: border-box;top: 0;bottom: 0;left: 50%;z-index: 0;}#sk-container-id-1 div.sk-serial {display: flex;flex-direction: column;align-items: center;background-color: white;padding-right: 0.2em;padding-left: 0.2em;position: relative;}#sk-container-id-1 div.sk-item {position: relative;z-index: 1;}#sk-container-id-1 div.sk-parallel {display: flex;align-items: stretch;justify-content: center;background-color: white;position: relative;}#sk-container-id-1 div.sk-item::before, #sk-container-id-1 div.sk-parallel-item::before {content: \"\";position: absolute;border-left: 1px solid gray;box-sizing: border-box;top: 0;bottom: 0;left: 50%;z-index: -1;}#sk-container-id-1 div.sk-parallel-item {display: flex;flex-direction: column;z-index: 1;position: relative;background-color: white;}#sk-container-id-1 div.sk-parallel-item:first-child::after {align-self: flex-end;width: 50%;}#sk-container-id-1 div.sk-parallel-item:last-child::after {align-self: flex-start;width: 50%;}#sk-container-id-1 div.sk-parallel-item:only-child::after {width: 0;}#sk-container-id-1 div.sk-dashed-wrapped {border: 1px dashed gray;margin: 0 0.4em 0.5em 0.4em;box-sizing: border-box;padding-bottom: 0.4em;background-color: white;}#sk-container-id-1 div.sk-label label {font-family: monospace;font-weight: bold;display: inline-block;line-height: 1.2em;}#sk-container-id-1 div.sk-label-container {text-align: center;}#sk-container-id-1 div.sk-container {/* jupyter's `normalize.less` sets `[hidden] { display: none; }` but bootstrap.min.css set `[hidden] { display: none !important; }` so we also need the `!important` here to be able to override the default hidden behavior on the sphinx rendered scikit-learn.org. See: https://github.com/scikit-learn/scikit-learn/issues/21755 */display: inline-block !important;position: relative;}#sk-container-id-1 div.sk-text-repr-fallback {display: none;}</style><div id=\"sk-container-id-1\" class=\"sk-top-container\"><div class=\"sk-text-repr-fallback\"><pre>Pipeline(steps=[(&#x27;preprocessor&#x27;,\n",
       "                 ColumnTransformer(remainder=&#x27;passthrough&#x27;,\n",
       "                                   transformers=[(&#x27;cat&#x27;,\n",
       "                                                  Pipeline(steps=[(&#x27;ordinal-enc&#x27;,\n",
       "                                                                   OrdinalEncoder())]),\n",
       "                                                  [0, 1, 3, 5, 7, 22]),\n",
       "                                                 (&#x27;other&#x27;, &#x27;passthrough&#x27;,\n",
       "                                                  [2, 4, 6, 8, 9, 10, 11, 12,\n",
       "                                                   13, 14, 15, 16, 17, 18, 19,\n",
       "                                                   20, 21])])),\n",
       "                (&#x27;missing_handler&#x27;,\n",
       "                 SimpleImputer(fill_value=-1, strategy=&#x27;constant&#x27;)),\n",
       "                (&#x27;gb&#x27;,\n",
       "                 GradientBoostingRegressor(alpha=0.12940376373416662,\n",
       "                                           learning_rate=0.216, max_depth=12,\n",
       "                                           min_samples_leaf=80,\n",
       "                                           min_samples_split=100,\n",
       "                                           n_estimators=595,\n",
       "                                           random_state=42))])</pre><b>In a Jupyter environment, please rerun this cell to show the HTML representation or trust the notebook. <br />On GitHub, the HTML representation is unable to render, please try loading this page with nbviewer.org.</b></div><div class=\"sk-container\" hidden><div class=\"sk-item sk-dashed-wrapped\"><div class=\"sk-label-container\"><div class=\"sk-label sk-toggleable\"><input class=\"sk-toggleable__control sk-hidden--visually\" id=\"sk-estimator-id-1\" type=\"checkbox\" ><label for=\"sk-estimator-id-1\" class=\"sk-toggleable__label sk-toggleable__label-arrow\">Pipeline</label><div class=\"sk-toggleable__content\"><pre>Pipeline(steps=[(&#x27;preprocessor&#x27;,\n",
       "                 ColumnTransformer(remainder=&#x27;passthrough&#x27;,\n",
       "                                   transformers=[(&#x27;cat&#x27;,\n",
       "                                                  Pipeline(steps=[(&#x27;ordinal-enc&#x27;,\n",
       "                                                                   OrdinalEncoder())]),\n",
       "                                                  [0, 1, 3, 5, 7, 22]),\n",
       "                                                 (&#x27;other&#x27;, &#x27;passthrough&#x27;,\n",
       "                                                  [2, 4, 6, 8, 9, 10, 11, 12,\n",
       "                                                   13, 14, 15, 16, 17, 18, 19,\n",
       "                                                   20, 21])])),\n",
       "                (&#x27;missing_handler&#x27;,\n",
       "                 SimpleImputer(fill_value=-1, strategy=&#x27;constant&#x27;)),\n",
       "                (&#x27;gb&#x27;,\n",
       "                 GradientBoostingRegressor(alpha=0.12940376373416662,\n",
       "                                           learning_rate=0.216, max_depth=12,\n",
       "                                           min_samples_leaf=80,\n",
       "                                           min_samples_split=100,\n",
       "                                           n_estimators=595,\n",
       "                                           random_state=42))])</pre></div></div></div><div class=\"sk-serial\"><div class=\"sk-item sk-dashed-wrapped\"><div class=\"sk-label-container\"><div class=\"sk-label sk-toggleable\"><input class=\"sk-toggleable__control sk-hidden--visually\" id=\"sk-estimator-id-2\" type=\"checkbox\" ><label for=\"sk-estimator-id-2\" class=\"sk-toggleable__label sk-toggleable__label-arrow\">preprocessor: ColumnTransformer</label><div class=\"sk-toggleable__content\"><pre>ColumnTransformer(remainder=&#x27;passthrough&#x27;,\n",
       "                  transformers=[(&#x27;cat&#x27;,\n",
       "                                 Pipeline(steps=[(&#x27;ordinal-enc&#x27;,\n",
       "                                                  OrdinalEncoder())]),\n",
       "                                 [0, 1, 3, 5, 7, 22]),\n",
       "                                (&#x27;other&#x27;, &#x27;passthrough&#x27;,\n",
       "                                 [2, 4, 6, 8, 9, 10, 11, 12, 13, 14, 15, 16, 17,\n",
       "                                  18, 19, 20, 21])])</pre></div></div></div><div class=\"sk-parallel\"><div class=\"sk-parallel-item\"><div class=\"sk-item\"><div class=\"sk-label-container\"><div class=\"sk-label sk-toggleable\"><input class=\"sk-toggleable__control sk-hidden--visually\" id=\"sk-estimator-id-3\" type=\"checkbox\" ><label for=\"sk-estimator-id-3\" class=\"sk-toggleable__label sk-toggleable__label-arrow\">cat</label><div class=\"sk-toggleable__content\"><pre>[0, 1, 3, 5, 7, 22]</pre></div></div></div><div class=\"sk-serial\"><div class=\"sk-item\"><div class=\"sk-serial\"><div class=\"sk-item\"><div class=\"sk-estimator sk-toggleable\"><input class=\"sk-toggleable__control sk-hidden--visually\" id=\"sk-estimator-id-4\" type=\"checkbox\" ><label for=\"sk-estimator-id-4\" class=\"sk-toggleable__label sk-toggleable__label-arrow\">OrdinalEncoder</label><div class=\"sk-toggleable__content\"><pre>OrdinalEncoder()</pre></div></div></div></div></div></div></div></div><div class=\"sk-parallel-item\"><div class=\"sk-item\"><div class=\"sk-label-container\"><div class=\"sk-label sk-toggleable\"><input class=\"sk-toggleable__control sk-hidden--visually\" id=\"sk-estimator-id-5\" type=\"checkbox\" ><label for=\"sk-estimator-id-5\" class=\"sk-toggleable__label sk-toggleable__label-arrow\">other</label><div class=\"sk-toggleable__content\"><pre>[2, 4, 6, 8, 9, 10, 11, 12, 13, 14, 15, 16, 17, 18, 19, 20, 21]</pre></div></div></div><div class=\"sk-serial\"><div class=\"sk-item\"><div class=\"sk-estimator sk-toggleable\"><input class=\"sk-toggleable__control sk-hidden--visually\" id=\"sk-estimator-id-6\" type=\"checkbox\" ><label for=\"sk-estimator-id-6\" class=\"sk-toggleable__label sk-toggleable__label-arrow\">passthrough</label><div class=\"sk-toggleable__content\"><pre>passthrough</pre></div></div></div></div></div></div><div class=\"sk-parallel-item\"><div class=\"sk-item\"><div class=\"sk-label-container\"><div class=\"sk-label sk-toggleable\"><input class=\"sk-toggleable__control sk-hidden--visually\" id=\"sk-estimator-id-7\" type=\"checkbox\" ><label for=\"sk-estimator-id-7\" class=\"sk-toggleable__label sk-toggleable__label-arrow\">remainder</label><div class=\"sk-toggleable__content\"><pre>[]</pre></div></div></div><div class=\"sk-serial\"><div class=\"sk-item\"><div class=\"sk-estimator sk-toggleable\"><input class=\"sk-toggleable__control sk-hidden--visually\" id=\"sk-estimator-id-8\" type=\"checkbox\" ><label for=\"sk-estimator-id-8\" class=\"sk-toggleable__label sk-toggleable__label-arrow\">passthrough</label><div class=\"sk-toggleable__content\"><pre>passthrough</pre></div></div></div></div></div></div></div></div><div class=\"sk-item\"><div class=\"sk-estimator sk-toggleable\"><input class=\"sk-toggleable__control sk-hidden--visually\" id=\"sk-estimator-id-9\" type=\"checkbox\" ><label for=\"sk-estimator-id-9\" class=\"sk-toggleable__label sk-toggleable__label-arrow\">SimpleImputer</label><div class=\"sk-toggleable__content\"><pre>SimpleImputer(fill_value=-1, strategy=&#x27;constant&#x27;)</pre></div></div></div><div class=\"sk-item\"><div class=\"sk-estimator sk-toggleable\"><input class=\"sk-toggleable__control sk-hidden--visually\" id=\"sk-estimator-id-10\" type=\"checkbox\" ><label for=\"sk-estimator-id-10\" class=\"sk-toggleable__label sk-toggleable__label-arrow\">GradientBoostingRegressor</label><div class=\"sk-toggleable__content\"><pre>GradientBoostingRegressor(alpha=0.12940376373416662, learning_rate=0.216,\n",
       "                          max_depth=12, min_samples_leaf=80,\n",
       "                          min_samples_split=100, n_estimators=595,\n",
       "                          random_state=42)</pre></div></div></div></div></div></div></div>"
      ],
      "text/plain": [
       "Pipeline(steps=[('preprocessor',\n",
       "                 ColumnTransformer(remainder='passthrough',\n",
       "                                   transformers=[('cat',\n",
       "                                                  Pipeline(steps=[('ordinal-enc',\n",
       "                                                                   OrdinalEncoder())]),\n",
       "                                                  [0, 1, 3, 5, 7, 22]),\n",
       "                                                 ('other', 'passthrough',\n",
       "                                                  [2, 4, 6, 8, 9, 10, 11, 12,\n",
       "                                                   13, 14, 15, 16, 17, 18, 19,\n",
       "                                                   20, 21])])),\n",
       "                ('missing_handler',\n",
       "                 SimpleImputer(fill_value=-1, strategy='constant')),\n",
       "                ('gb',\n",
       "                 GradientBoostingRegressor(alpha=0.12940376373416662,\n",
       "                                           learning_rate=0.216, max_depth=12,\n",
       "                                           min_samples_leaf=80,\n",
       "                                           min_samples_split=100,\n",
       "                                           n_estimators=595,\n",
       "                                           random_state=42))])"
      ]
     },
     "execution_count": 37,
     "metadata": {},
     "output_type": "execute_result"
    }
   ],
   "source": [
    "model_pipeline.fit(X, y)"
   ]
  },
  {
   "cell_type": "code",
   "execution_count": 38,
   "metadata": {},
   "outputs": [
    {
     "data": {
      "text/plain": [
       "161.00908295634264"
      ]
     },
     "execution_count": 38,
     "metadata": {},
     "output_type": "execute_result"
    }
   ],
   "source": [
    "mean_squared_error(y, model_pipeline.predict(X), squared = False)"
   ]
  },
  {
   "cell_type": "code",
   "execution_count": 39,
   "metadata": {},
   "outputs": [],
   "source": [
    "with open(os.path.join(os.path.pardir, \"app\", \"bin\", \"model-pipeline.pkl\"), \"wb\") as pkl:\n",
    "    pickle.dump(model_pipeline, pkl)"
   ]
  },
  {
   "cell_type": "code",
   "execution_count": null,
   "metadata": {},
   "outputs": [],
   "source": []
  }
 ],
 "metadata": {
  "kernelspec": {
   "display_name": "base",
   "language": "python",
   "name": "python3"
  },
  "language_info": {
   "codemirror_mode": {
    "name": "ipython",
    "version": 3
   },
   "file_extension": ".py",
   "mimetype": "text/x-python",
   "name": "python",
   "nbconvert_exporter": "python",
   "pygments_lexer": "ipython3",
   "version": "3.10.9"
  },
  "orig_nbformat": 4
 },
 "nbformat": 4,
 "nbformat_minor": 2
}
